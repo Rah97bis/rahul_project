{
 "cells": [
  {
   "cell_type": "code",
   "execution_count": 1,
   "id": "15819e38-4d4e-4a80-b6bd-d17fafb698cb",
   "metadata": {},
   "outputs": [],
   "source": [
    "import pandas as pd"
   ]
  },
  {
   "cell_type": "code",
   "execution_count": 2,
   "id": "72325e87-03f7-4e82-a8b5-be11225796ca",
   "metadata": {},
   "outputs": [],
   "source": [
    "fraud=pd.read_csv('Fraud.csv')"
   ]
  },
  {
   "cell_type": "code",
   "execution_count": 3,
   "id": "64464f38-7340-4dd4-8ccb-1bbbcaa3e70a",
   "metadata": {},
   "outputs": [
    {
     "data": {
      "text/html": [
       "<div>\n",
       "<style scoped>\n",
       "    .dataframe tbody tr th:only-of-type {\n",
       "        vertical-align: middle;\n",
       "    }\n",
       "\n",
       "    .dataframe tbody tr th {\n",
       "        vertical-align: top;\n",
       "    }\n",
       "\n",
       "    .dataframe thead th {\n",
       "        text-align: right;\n",
       "    }\n",
       "</style>\n",
       "<table border=\"1\" class=\"dataframe\">\n",
       "  <thead>\n",
       "    <tr style=\"text-align: right;\">\n",
       "      <th></th>\n",
       "      <th>step</th>\n",
       "      <th>type</th>\n",
       "      <th>amount</th>\n",
       "      <th>nameOrig</th>\n",
       "      <th>oldbalanceOrg</th>\n",
       "      <th>newbalanceOrig</th>\n",
       "      <th>nameDest</th>\n",
       "      <th>oldbalanceDest</th>\n",
       "      <th>newbalanceDest</th>\n",
       "      <th>isFraud</th>\n",
       "      <th>isFlaggedFraud</th>\n",
       "    </tr>\n",
       "  </thead>\n",
       "  <tbody>\n",
       "    <tr>\n",
       "      <th>0</th>\n",
       "      <td>1</td>\n",
       "      <td>PAYMENT</td>\n",
       "      <td>9839.64</td>\n",
       "      <td>C1231006815</td>\n",
       "      <td>170136.0</td>\n",
       "      <td>160296.36</td>\n",
       "      <td>M1979787155</td>\n",
       "      <td>0.0</td>\n",
       "      <td>0.0</td>\n",
       "      <td>0</td>\n",
       "      <td>0</td>\n",
       "    </tr>\n",
       "    <tr>\n",
       "      <th>1</th>\n",
       "      <td>1</td>\n",
       "      <td>PAYMENT</td>\n",
       "      <td>1864.28</td>\n",
       "      <td>C1666544295</td>\n",
       "      <td>21249.0</td>\n",
       "      <td>19384.72</td>\n",
       "      <td>M2044282225</td>\n",
       "      <td>0.0</td>\n",
       "      <td>0.0</td>\n",
       "      <td>0</td>\n",
       "      <td>0</td>\n",
       "    </tr>\n",
       "    <tr>\n",
       "      <th>2</th>\n",
       "      <td>1</td>\n",
       "      <td>TRANSFER</td>\n",
       "      <td>181.00</td>\n",
       "      <td>C1305486145</td>\n",
       "      <td>181.0</td>\n",
       "      <td>0.00</td>\n",
       "      <td>C553264065</td>\n",
       "      <td>0.0</td>\n",
       "      <td>0.0</td>\n",
       "      <td>1</td>\n",
       "      <td>0</td>\n",
       "    </tr>\n",
       "    <tr>\n",
       "      <th>3</th>\n",
       "      <td>1</td>\n",
       "      <td>CASH_OUT</td>\n",
       "      <td>181.00</td>\n",
       "      <td>C840083671</td>\n",
       "      <td>181.0</td>\n",
       "      <td>0.00</td>\n",
       "      <td>C38997010</td>\n",
       "      <td>21182.0</td>\n",
       "      <td>0.0</td>\n",
       "      <td>1</td>\n",
       "      <td>0</td>\n",
       "    </tr>\n",
       "    <tr>\n",
       "      <th>4</th>\n",
       "      <td>1</td>\n",
       "      <td>PAYMENT</td>\n",
       "      <td>11668.14</td>\n",
       "      <td>C2048537720</td>\n",
       "      <td>41554.0</td>\n",
       "      <td>29885.86</td>\n",
       "      <td>M1230701703</td>\n",
       "      <td>0.0</td>\n",
       "      <td>0.0</td>\n",
       "      <td>0</td>\n",
       "      <td>0</td>\n",
       "    </tr>\n",
       "  </tbody>\n",
       "</table>\n",
       "</div>"
      ],
      "text/plain": [
       "   step      type    amount     nameOrig  oldbalanceOrg  newbalanceOrig  \\\n",
       "0     1   PAYMENT   9839.64  C1231006815       170136.0       160296.36   \n",
       "1     1   PAYMENT   1864.28  C1666544295        21249.0        19384.72   \n",
       "2     1  TRANSFER    181.00  C1305486145          181.0            0.00   \n",
       "3     1  CASH_OUT    181.00   C840083671          181.0            0.00   \n",
       "4     1   PAYMENT  11668.14  C2048537720        41554.0        29885.86   \n",
       "\n",
       "      nameDest  oldbalanceDest  newbalanceDest  isFraud  isFlaggedFraud  \n",
       "0  M1979787155             0.0             0.0        0               0  \n",
       "1  M2044282225             0.0             0.0        0               0  \n",
       "2   C553264065             0.0             0.0        1               0  \n",
       "3    C38997010         21182.0             0.0        1               0  \n",
       "4  M1230701703             0.0             0.0        0               0  "
      ]
     },
     "execution_count": 3,
     "metadata": {},
     "output_type": "execute_result"
    }
   ],
   "source": [
    "fraud.head()"
   ]
  },
  {
   "cell_type": "code",
   "execution_count": 4,
   "id": "5f129525-893d-40af-9e0d-96a5bc51e8aa",
   "metadata": {},
   "outputs": [
    {
     "name": "stdout",
     "output_type": "stream",
     "text": [
      "<class 'pandas.core.frame.DataFrame'>\n",
      "RangeIndex: 6362620 entries, 0 to 6362619\n",
      "Data columns (total 11 columns):\n",
      " #   Column          Dtype  \n",
      "---  ------          -----  \n",
      " 0   step            int64  \n",
      " 1   type            object \n",
      " 2   amount          float64\n",
      " 3   nameOrig        object \n",
      " 4   oldbalanceOrg   float64\n",
      " 5   newbalanceOrig  float64\n",
      " 6   nameDest        object \n",
      " 7   oldbalanceDest  float64\n",
      " 8   newbalanceDest  float64\n",
      " 9   isFraud         int64  \n",
      " 10  isFlaggedFraud  int64  \n",
      "dtypes: float64(5), int64(3), object(3)\n",
      "memory usage: 534.0+ MB\n",
      "None\n"
     ]
    }
   ],
   "source": [
    "print(fraud.info())"
   ]
  },
  {
   "cell_type": "code",
   "execution_count": 5,
   "id": "7d31b800-1787-4653-8a8f-b3a90b1ad77b",
   "metadata": {},
   "outputs": [
    {
     "name": "stdout",
     "output_type": "stream",
     "text": [
      "               step        amount  oldbalanceOrg  newbalanceOrig  \\\n",
      "count  6.362620e+06  6.362620e+06   6.362620e+06    6.362620e+06   \n",
      "mean   2.433972e+02  1.798619e+05   8.338831e+05    8.551137e+05   \n",
      "std    1.423320e+02  6.038582e+05   2.888243e+06    2.924049e+06   \n",
      "min    1.000000e+00  0.000000e+00   0.000000e+00    0.000000e+00   \n",
      "25%    1.560000e+02  1.338957e+04   0.000000e+00    0.000000e+00   \n",
      "50%    2.390000e+02  7.487194e+04   1.420800e+04    0.000000e+00   \n",
      "75%    3.350000e+02  2.087215e+05   1.073152e+05    1.442584e+05   \n",
      "max    7.430000e+02  9.244552e+07   5.958504e+07    4.958504e+07   \n",
      "\n",
      "       oldbalanceDest  newbalanceDest       isFraud  isFlaggedFraud  \n",
      "count    6.362620e+06    6.362620e+06  6.362620e+06    6.362620e+06  \n",
      "mean     1.100702e+06    1.224996e+06  1.290820e-03    2.514687e-06  \n",
      "std      3.399180e+06    3.674129e+06  3.590480e-02    1.585775e-03  \n",
      "min      0.000000e+00    0.000000e+00  0.000000e+00    0.000000e+00  \n",
      "25%      0.000000e+00    0.000000e+00  0.000000e+00    0.000000e+00  \n",
      "50%      1.327057e+05    2.146614e+05  0.000000e+00    0.000000e+00  \n",
      "75%      9.430367e+05    1.111909e+06  0.000000e+00    0.000000e+00  \n",
      "max      3.560159e+08    3.561793e+08  1.000000e+00    1.000000e+00  \n"
     ]
    }
   ],
   "source": [
    "print(fraud.describe())"
   ]
  },
  {
   "cell_type": "markdown",
   "id": "34662579-f540-403e-ad97-c76f3020d987",
   "metadata": {},
   "source": [
    "#check for missing value"
   ]
  },
  {
   "cell_type": "code",
   "execution_count": 7,
   "id": "a4ab1745-a1ad-4758-aefa-033b528e9a0a",
   "metadata": {},
   "outputs": [
    {
     "name": "stdout",
     "output_type": "stream",
     "text": [
      "step              0\n",
      "type              0\n",
      "amount            0\n",
      "nameOrig          0\n",
      "oldbalanceOrg     0\n",
      "newbalanceOrig    0\n",
      "nameDest          0\n",
      "oldbalanceDest    0\n",
      "newbalanceDest    0\n",
      "isFraud           0\n",
      "isFlaggedFraud    0\n",
      "dtype: int64\n"
     ]
    }
   ],
   "source": [
    "missing_values=fraud.isnull().sum()\n",
    "print(missing_values)"
   ]
  },
  {
   "cell_type": "code",
   "execution_count": 9,
   "id": "1de40be2-c89e-4ce9-99a6-84623c7e630f",
   "metadata": {},
   "outputs": [],
   "source": [
    "#drop missing value"
   ]
  },
  {
   "cell_type": "code",
   "execution_count": null,
   "id": "bed46c7c-2d61-48b3-9431-a57c2438763a",
   "metadata": {},
   "outputs": [],
   "source": [
    "fraud.fillna(fraud.mean(), inplace=True)"
   ]
  },
  {
   "cell_type": "code",
   "execution_count": null,
   "id": "4e865241-cd89-429f-a8a8-559bf5394c66",
   "metadata": {},
   "outputs": [],
   "source": [
    "#handling outliers\n",
    "import numpy as np"
   ]
  },
  {
   "cell_type": "code",
   "execution_count": null,
   "id": "a461cb44-0df3-4a29-a579-f0845c54cbf0",
   "metadata": {},
   "outputs": [],
   "source": [
    "#detecting outliers using IQR\n"
   ]
  },
  {
   "cell_type": "code",
   "execution_count": null,
   "id": "36548c43-d233-4edd-8b21-3f3a15a30f07",
   "metadata": {},
   "outputs": [],
   "source": [
    "Q1 = fraud.quantile(0.25)\n",
    "Q3 = fraud.quantile(0.75)\n",
    "IQR = Q3 - Q1"
   ]
  },
  {
   "cell_type": "code",
   "execution_count": null,
   "id": "3f0f729b-89ff-4985-8061-8960df9972f0",
   "metadata": {},
   "outputs": [],
   "source": [
    "#removing outliers"
   ]
  },
  {
   "cell_type": "code",
   "execution_count": null,
   "id": "b96baefc-4468-4d68-a739-1d72657e5650",
   "metadata": {},
   "outputs": [],
   "source": [
    "fraud = fraud[~((fraud < (Q1 - 1.5 * IQR)) | (fraud > (Q3 + 1.5 * IQR))).any(axis=1)]"
   ]
  },
  {
   "cell_type": "markdown",
   "id": "117b7f65-dac2-45ec-a955-a1158cd6f9e9",
   "metadata": {},
   "source": [
    "#Handling Multi-Collinearity"
   ]
  },
  {
   "cell_type": "code",
   "execution_count": null,
   "id": "1890d076-54b7-4590-aecd-29c626952b2e",
   "metadata": {},
   "outputs": [],
   "source": [
    "from statsmodels.stats.outliers_influence import variance_inflation_factor"
   ]
  },
  {
   "cell_type": "markdown",
   "id": "162472fa-9aa3-4cfa-b04c-baa69f44b35b",
   "metadata": {},
   "source": [
    "# Calculate VIF for each feature"
   ]
  },
  {
   "cell_type": "code",
   "execution_count": null,
   "id": "bfae29df-7f89-4184-ab26-6fb7ec90bbd5",
   "metadata": {},
   "outputs": [],
   "source": [
    "X = fraud.drop(columns=['fraudulent'])\n",
    "vif_fraud = pd.DataFrame()\n",
    "vif_fraud[\"feature\"] = X.columns\n",
    "vif_fraud[\"VIF\"] = [variance_inflation_factor(X.values, i) for i in range(len(X.columns))]\n",
    "print(vif_fraud)"
   ]
  },
  {
   "cell_type": "markdown",
   "id": "cc11a139-ed96-482a-a044-0606b049171a",
   "metadata": {},
   "source": [
    "# Remove features with high VIF"
   ]
  },
  {
   "cell_type": "code",
   "execution_count": null,
   "id": "4b97efbd-21a2-4d70-a89e-93aeaa14678f",
   "metadata": {},
   "outputs": [],
   "source": [
    "features_to_remove = vif_fraud[vif_fraud['VIF'] > 10]['feature']\n",
    "fraud.drop(columns=features_to_remove, inplace=True)"
   ]
  },
  {
   "cell_type": "markdown",
   "id": "7e4e45a5-e040-4743-90f1-a6c0f64a1c5b",
   "metadata": {},
   "source": [
    "# 2.Fraud Detection Model\n",
    "# Model description\n"
   ]
  },
  {
   "cell_type": "code",
   "execution_count": null,
   "id": "a02348e8-2189-4f42-a646-6e4b583253b0",
   "metadata": {},
   "outputs": [],
   "source": [
    "#We'll use a Random Forest classifier, which is robust and effective for classification tasks, including fraud detection."
   ]
  },
  {
   "cell_type": "code",
   "execution_count": null,
   "id": "1bde4165-cc8d-4a44-a496-6d660c3099d2",
   "metadata": {},
   "outputs": [],
   "source": [
    "from sklearn.ensemble import RandomForestClassifier\n",
    "\n",
    "model = RandomForestClassifier(n_estimators=100, random_state=42)"
   ]
  },
  {
   "cell_type": "markdown",
   "id": "016a013a-6d4a-4488-83f1-6b762f398cb6",
   "metadata": {},
   "source": [
    "# 3. Variable Selection"
   ]
  },
  {
   "cell_type": "code",
   "execution_count": null,
   "id": "c1fbee31-569f-4d61-902f-fa5b93c54b09",
   "metadata": {},
   "outputs": [],
   "source": [
    "#Select variables based on domain knowledge, feature importance from initial models, and correlation analysis."
   ]
  },
  {
   "cell_type": "code",
   "execution_count": null,
   "id": "91cde0d6-e3e1-46e0-9efd-1611811ad1de",
   "metadata": {},
   "outputs": [],
   "source": [
    "selected_features = ['feature1', 'feature2', 'feature3', 'feature4']  # Example features\n",
    "X = fraud[selected_features]\n",
    "y = fraud['fraudulent']"
   ]
  },
  {
   "cell_type": "markdown",
   "id": "56c6e71d-d466-48b8-819f-539a9a5721a2",
   "metadata": {},
   "source": [
    "# 4. Model Performance"
   ]
  },
  {
   "cell_type": "code",
   "execution_count": null,
   "id": "8c54e0e9-56b5-4468-b978-163a8827c402",
   "metadata": {},
   "outputs": [],
   "source": [
    "from sklearn.model_selection import train_test_split\n",
    "from sklearn.metrics import classification_report, roc_auc_score, confusion_matrix"
   ]
  },
  {
   "cell_type": "code",
   "execution_count": 4,
   "id": "8f2ee750-ca04-4c20-b8c9-67b2ec4fa3cd",
   "metadata": {},
   "outputs": [],
   "source": [
    "# Split data"
   ]
  },
  {
   "cell_type": "code",
   "execution_count": null,
   "id": "b7d3157d-8a73-4a0a-a72b-c930001fd1bf",
   "metadata": {},
   "outputs": [],
   "source": [
    "X_train, X_test, y_train, y_test = train_test_split(X, y, test_size=0.2, random_state=42)"
   ]
  },
  {
   "cell_type": "code",
   "execution_count": 12,
   "id": "8a3a0840-1edb-4dcc-b2ed-9e2499eeea0a",
   "metadata": {},
   "outputs": [],
   "source": [
    "#Train model"
   ]
  },
  {
   "cell_type": "code",
   "execution_count": null,
   "id": "a8288ba4-d073-48d3-a857-c8eea4178780",
   "metadata": {},
   "outputs": [],
   "source": [
    "model.fit(X_train, y_train)"
   ]
  },
  {
   "cell_type": "code",
   "execution_count": null,
   "id": "4411bc3b-7363-4883-b6df-c79ec6004893",
   "metadata": {},
   "outputs": [],
   "source": [
    "# Predictions and Evaluation"
   ]
  },
  {
   "cell_type": "code",
   "execution_count": null,
   "id": "2a91b19a-a9d1-453b-839d-368a17119b3c",
   "metadata": {},
   "outputs": [],
   "source": [
    "y_pred = model.predict(X_test)\n",
    "y_prob = model.predict_proba(X_test)[:, 1]"
   ]
  },
  {
   "cell_type": "code",
   "execution_count": null,
   "id": "1c839047-7aab-4daf-99af-80bfd243aa95",
   "metadata": {},
   "outputs": [],
   "source": [
    "print(classification_report(y_test, y_pred))\n",
    "print('AUC-ROC:', roc_auc_score(y_test, y_prob))\n",
    "print(confusion_matrix(y_test, y_pred))"
   ]
  },
  {
   "cell_type": "markdown",
   "id": "bfad58c0-e39b-4d40-8934-1cf12c663c44",
   "metadata": {},
   "source": [
    "# 5. Key Factors Predicting Fraudulent Customers"
   ]
  },
  {
   "cell_type": "code",
   "execution_count": null,
   "id": "806e21e4-7414-4e07-8310-9e960ba7f36a",
   "metadata": {},
   "outputs": [],
   "source": [
    "importances = model.feature_importances_\n",
    "feature_names = X.columns\n",
    "\n",
    "feature_importance_df = pd.DataFrame({'feature': feature_names, 'importance': importances})\n",
    "feature_importance_df = feature_importance_df.sort_values(by='importance', ascending=False)\n",
    "\n",
    "print(feature_importance_df)"
   ]
  },
  {
   "cell_type": "code",
   "execution_count": null,
   "id": "f02dc930-e58c-4463-a7f4-9bb409db3691",
   "metadata": {},
   "outputs": [],
   "source": []
  }
 ],
 "metadata": {
  "kernelspec": {
   "display_name": "Python 3 (ipykernel)",
   "language": "python",
   "name": "python3"
  },
  "language_info": {
   "codemirror_mode": {
    "name": "ipython",
    "version": 3
   },
   "file_extension": ".py",
   "mimetype": "text/x-python",
   "name": "python",
   "nbconvert_exporter": "python",
   "pygments_lexer": "ipython3",
   "version": "3.11.7"
  }
 },
 "nbformat": 4,
 "nbformat_minor": 5
}
